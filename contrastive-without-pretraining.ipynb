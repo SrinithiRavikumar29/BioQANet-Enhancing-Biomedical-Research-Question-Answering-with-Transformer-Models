{
 "cells": [
  {
   "cell_type": "code",
   "execution_count": 1,
   "id": "343eb22b-8ec6-415a-8685-5f6f9fb36bd9",
   "metadata": {},
   "outputs": [],
   "source": [
    "import json\n",
    "import torch\n",
    "import torch.nn as nn\n",
    "import pandas as pd\n",
    "import torch.nn.functional as F\n",
    "from torch.utils.data import Dataset, DataLoader, WeightedRandomSampler\n",
    "from transformers import AutoModel, AutoTokenizer, AdamW\n",
    "from sklearn.model_selection import train_test_split\n",
    "from collections import Counter\n",
    "\n",
    "from tqdm import tqdm\n",
    "from utils import *\n",
    "from contrastive_utils import *\n",
    "import random\n",
    "# from class_balanced_loss import *\n",
    "\n",
    "\n",
    "\n",
    "%load_ext autoreload\n",
    "%autoreload 2"
   ]
  },
  {
   "cell_type": "code",
   "execution_count": 2,
   "id": "1241836f-79cb-4032-b7d5-1599acd30dd1",
   "metadata": {},
   "outputs": [],
   "source": [
    "seed = 0\n",
    "torch.manual_seed(seed)\n",
    "torch.cuda.manual_seed(seed)\n",
    "torch.cuda.manual_seed_all(seed)"
   ]
  },
  {
   "cell_type": "code",
   "execution_count": 3,
   "id": "0b82a12e-e0b0-4869-935b-b04a261d6489",
   "metadata": {},
   "outputs": [
    {
     "name": "stdout",
     "output_type": "stream",
     "text": [
      "There are 1 GPU(s) |available.\n",
      "We will use the GPU: NVIDIA GeForce GTX 1080 Ti\n"
     ]
    }
   ],
   "source": [
    "if torch.cuda.is_available():    \n",
    "    # Tell PyTorch to use the GPU.    \n",
    "    device = torch.device(\"cuda\")\n",
    "    print('There are %d GPU(s) |available.' % torch.cuda.device_count())\n",
    "    print('We will use the GPU:', torch.cuda.get_device_name(0))\n",
    "# If not...\n",
    "else:\n",
    "    print('No GPU available, using the CPU instead.')\n",
    "    device = torch.device(\"cpu\")"
   ]
  },
  {
   "cell_type": "code",
   "execution_count": 4,
   "id": "8ad6b569-1793-4984-a730-3c64a758561c",
   "metadata": {},
   "outputs": [],
   "source": [
    "expert_train_processed,artificial_train_processed,unlabeled_processed,expert_test_processed = load_pubmedqa_data(data_path)"
   ]
  },
  {
   "cell_type": "code",
   "execution_count": 5,
   "id": "679ff2de-f7bb-42cb-b59f-ee6075a909a0",
   "metadata": {},
   "outputs": [],
   "source": [
    "# model_name = \"dmis-lab/biobert-base-cased-v1.1\"\n",
    "# model_name = \"nlpie/bio-mobilebert\"\n",
    "# model_name = 'nlpie/bio-tinybert'\n",
    "model_name = \"nlpie/tiny-biobert\""
   ]
  },
  {
   "cell_type": "code",
   "execution_count": 6,
   "id": "41f61517-6dbf-492d-8568-fc315758bd9d",
   "metadata": {},
   "outputs": [
    {
     "name": "stderr",
     "output_type": "stream",
     "text": [
      "Some weights of BertModel were not initialized from the model checkpoint at nlpie/tiny-biobert and are newly initialized: ['bert.pooler.dense.bias', 'bert.pooler.dense.weight']\n",
      "You should probably TRAIN this model on a down-stream task to be able to use it for predictions and inference.\n"
     ]
    }
   ],
   "source": [
    "tokenizer = AutoTokenizer.from_pretrained(model_name)\n",
    "model = PubMedQAContrastive(model_name).to(device)"
   ]
  },
  {
   "cell_type": "code",
   "execution_count": 7,
   "id": "83829e25-6b09-4fd5-a7c3-26186167bd88",
   "metadata": {},
   "outputs": [],
   "source": [
    "train_dataset = PubMedQADataset(expert_train_processed + artificial_train_processed, tokenizer,max_length = 512)\n",
    "unlabeled_dataset = PubMedQADataset(unlabeled_processed, tokenizer,max_length = 512)\n",
    "test_dataset = PubMedQADataset(expert_test_processed,tokenizer,max_length = 512)"
   ]
  },
  {
   "cell_type": "code",
   "execution_count": 8,
   "id": "ee01c4cb-d3ec-4802-a33e-3ecb6a85199e",
   "metadata": {},
   "outputs": [],
   "source": [
    "test_set_path = os.path.join(data_path,\"test_set.json\")\n",
    "df_test = pd.read_json(test_set_path).T"
   ]
  },
  {
   "cell_type": "code",
   "execution_count": 9,
   "id": "0a045cfc-d1da-4b6e-84ac-08c8c13979e9",
   "metadata": {},
   "outputs": [
    {
     "data": {
      "text/plain": [
       "23087604"
      ]
     },
     "execution_count": 9,
     "metadata": {},
     "output_type": "execute_result"
    }
   ],
   "source": [
    "sum(p.numel() for p in model.parameters() if p.requires_grad)"
   ]
  },
  {
   "cell_type": "code",
   "execution_count": 10,
   "id": "49e3fc0f-d8ef-4bab-86f3-e84f9b0408ad",
   "metadata": {},
   "outputs": [],
   "source": [
    "def compute_class_counts(dataset):\n",
    "    class_counts = Counter()\n",
    "    for data in tqdm(dataset):\n",
    "        label = data['label'].item()\n",
    "        class_counts[label] += 1\n",
    "    return class_counts"
   ]
  },
  {
   "cell_type": "code",
   "execution_count": 11,
   "id": "ac765d84-2067-4b50-840a-7b9a20dcc09f",
   "metadata": {},
   "outputs": [
    {
     "name": "stderr",
     "output_type": "stream",
     "text": [
      "100%|██████████| 211769/211769 [07:02<00:00, 501.26it/s]\n"
     ]
    }
   ],
   "source": [
    "\n",
    "# Compute class counts and weights\n",
    "class_counts = compute_class_counts(train_dataset)"
   ]
  },
  {
   "cell_type": "code",
   "execution_count": 30,
   "id": "b605cc43-1341-47d8-b711-75fc2641934e",
   "metadata": {},
   "outputs": [],
   "source": [
    "class_count_list = [196420, 15294, 55]"
   ]
  },
  {
   "cell_type": "code",
   "execution_count": 31,
   "id": "cd9270dd-caf3-4f83-a1f5-61d371eaee73",
   "metadata": {},
   "outputs": [],
   "source": [
    "# class_count_list = [class_counts[i] for i in range(len(class_counts))]\n",
    "class_weights = [max(class_count_list) / count for count in class_count_list]\n",
    "class_weights = torch.tensor(class_weights, dtype=torch.float).to('cuda')"
   ]
  },
  {
   "cell_type": "code",
   "execution_count": 32,
   "id": "f86015b4-7cda-45a2-9f7a-af7495a23210",
   "metadata": {},
   "outputs": [
    {
     "data": {
      "text/plain": [
       "tensor([1.0000e+00, 1.2843e+01, 3.5713e+03], device='cuda:0')"
      ]
     },
     "execution_count": 32,
     "metadata": {},
     "output_type": "execute_result"
    }
   ],
   "source": [
    "class_weights"
   ]
  },
  {
   "cell_type": "code",
   "execution_count": 11,
   "id": "a9ef5a16-79a0-4da0-85cd-f8139d77452f",
   "metadata": {},
   "outputs": [],
   "source": [
    "labeled_loader = DataLoader(train_dataset, batch_size=8, shuffle=True)\n",
    "unlabeled_loader = DataLoader(unlabeled_dataset, batch_size=8, shuffle=True)\n",
    "test_loader = DataLoader(test_dataset,batch_size=32, shuffle=False)"
   ]
  },
  {
   "cell_type": "code",
   "execution_count": 12,
   "id": "49d02838-ab50-42cb-896f-98a2c53c0c4f",
   "metadata": {},
   "outputs": [],
   "source": [
    "optimizer = torch.optim.AdamW(model.parameters(), lr=5e-5)"
   ]
  },
  {
   "cell_type": "code",
   "execution_count": 13,
   "id": "630fa6c7-eb29-4279-bfeb-586c6548fa60",
   "metadata": {},
   "outputs": [],
   "source": [
    "num_epochs = 2"
   ]
  },
  {
   "cell_type": "code",
   "execution_count": 14,
   "id": "79e74be0-3cf0-40d2-b30d-18306cc55a77",
   "metadata": {},
   "outputs": [],
   "source": [
    "generation_loss_fn = nn.CrossEntropyLoss(ignore_index=tokenizer.pad_token_id)"
   ]
  },
  {
   "cell_type": "code",
   "execution_count": 15,
   "id": "996d21b3-155e-426b-9771-4a3db5f01328",
   "metadata": {},
   "outputs": [],
   "source": [
    "torch.manual_seed(seed)\n",
    "torch.cuda.manual_seed(seed)\n",
    "torch.cuda.manual_seed_all(seed)\n",
    "\n",
    "# Create and train the classifier\n",
    "classifier = PubMedQAClassifier(model).to(device)"
   ]
  },
  {
   "cell_type": "code",
   "execution_count": 16,
   "id": "5e5ac3ed-e19e-43e9-846f-f30e372d3a18",
   "metadata": {},
   "outputs": [
    {
     "name": "stderr",
     "output_type": "stream",
     "text": [
      "100%|██████████| 16/16 [00:03<00:00,  4.60it/s]"
     ]
    },
    {
     "name": "stdout",
     "output_type": "stream",
     "text": [
      "Test Accuracy before finetuning : 0.39\n"
     ]
    },
    {
     "name": "stderr",
     "output_type": "stream",
     "text": [
      "\n"
     ]
    }
   ],
   "source": [
    "print(f\"Test Accuracy before finetuning : {get_acc(classifier,test_loader,device)}\")\n"
   ]
  },
  {
   "cell_type": "markdown",
   "id": "e1f83e20-7ef2-4c44-8b0e-7cd87d5cebeb",
   "metadata": {},
   "source": [
    "## PHASE 2 finetuning"
   ]
  },
  {
   "cell_type": "code",
   "execution_count": 33,
   "id": "86c3e434-5e53-472c-83c2-c6e12c5aa38a",
   "metadata": {},
   "outputs": [],
   "source": [
    "classifier_optimizer = torch.optim.AdamW(classifier.parameters(), lr=2e-5)\n",
    "classification_loss_fn = nn.CrossEntropyLoss(weight = class_weights)\n",
    "generation_loss_fn = nn.CrossEntropyLoss(ignore_index=tokenizer.pad_token_id)"
   ]
  },
  {
   "cell_type": "code",
   "execution_count": 17,
   "id": "5aa6b03a-9d3a-4e27-9be9-9ccb288757ea",
   "metadata": {},
   "outputs": [],
   "source": [
    "def train_classifier(model, dataloader, testloader, optimizer,classification_loss_fn,generation_loss_fn, device, epochs):\n",
    "    model.train()\n",
    "    for epoch in range(epochs):\n",
    "        total_loss = 0\n",
    "        progress_bar = tqdm(dataloader, desc=f\"Epoch {epoch+1}/{epochs}\")\n",
    "        for batch in progress_bar:\n",
    "            input_ids = batch['input_ids'].to(device)\n",
    "            attention_mask = batch['attention_mask'].to(device)\n",
    "            label = batch['label'].to(device)\n",
    "            long_answer_ids = batch['long_answer_ids'].to(device)\n",
    "\n",
    "\n",
    "            classification_logits,long_answer_logits = model(input_ids, attention_mask)\n",
    "            \n",
    "            # Compute losses\n",
    "            classification_loss = classification_loss_fn(classification_logits, label)\n",
    "            # classification_loss = CB_loss(label.to('cpu'), classification_logits.to('cpu'), class_count_list, num_classes,loss_type, beta, gamma)\n",
    "            generation_loss = generation_loss_fn(long_answer_logits.view(-1, long_answer_logits.size(-1)), long_answer_ids.view(-1))\n",
    "    \n",
    "            # Combine losses\n",
    "            loss = classification_loss + generation_loss\n",
    "      \n",
    "            optimizer.zero_grad()\n",
    "            loss.backward()\n",
    "            optimizer.step()\n",
    "                \n",
    "            total_loss += loss.item()\n",
    "            progress_bar.set_postfix({'loss': loss.item()})\n",
    "            \n",
    "        print(f\"Epoch {epoch+1}/{epochs}, Loss: {total_loss/len(dataloader):.4f}\")\n",
    "        print(f\"Test Accuracy : {get_acc(model,testloader,device)}\")\n",
    "        model.train()\n",
    "\n"
   ]
  },
  {
   "cell_type": "code",
   "execution_count": 21,
   "id": "56d21f09-5bfe-49a5-a2f1-9553810c4fe5",
   "metadata": {},
   "outputs": [
    {
     "name": "stderr",
     "output_type": "stream",
     "text": [
      "Epoch 1/1: 100%|██████████| 26472/26472 [55:40<00:00,  7.92it/s, loss=6.27]\n"
     ]
    },
    {
     "name": "stdout",
     "output_type": "stream",
     "text": [
      "Epoch 1/1, Loss: 6.7563\n"
     ]
    },
    {
     "name": "stderr",
     "output_type": "stream",
     "text": [
      "100%|██████████| 16/16 [00:03<00:00,  5.20it/s]"
     ]
    },
    {
     "name": "stdout",
     "output_type": "stream",
     "text": [
      "Test Accuracy : 0.546\n"
     ]
    },
    {
     "name": "stderr",
     "output_type": "stream",
     "text": [
      "\n"
     ]
    }
   ],
   "source": [
    "train_classifier(classifier,labeled_loader,test_loader,classifier_optimizer,classification_loss_fn,\n",
    "                 generation_loss_fn,device,1)"
   ]
  },
  {
   "cell_type": "code",
   "execution_count": 22,
   "id": "1172b1c8-c744-4ee9-a897-207c1ccd7e62",
   "metadata": {},
   "outputs": [],
   "source": [
    "state = {\n",
    "    'state_dict': classifier.state_dict(),\n",
    "    'optimizer': classifier_optimizer.state_dict(),\n",
    "    'epochs': 1,\n",
    "    'lr':2e-5\n",
    "}\n",
    "\n",
    "torch.save(state, f\"weights/{model_name.split('/')[1]}_512_contrastive_labelled_only_QA_model.pt\")"
   ]
  },
  {
   "cell_type": "code",
   "execution_count": 25,
   "id": "6ec5de02-130a-4803-810a-82d68555b5eb",
   "metadata": {},
   "outputs": [],
   "source": [
    "checkpoint = torch.load(f\"weights/{model_name.split('/')[1]}_512_contrastive_labelled_only_QA_model.pt\")\n",
    "classifier.load_state_dict(checkpoint['state_dict'])\n",
    "classifier_optimizer.load_state_dict(checkpoint['optimizer'])\n"
   ]
  },
  {
   "cell_type": "code",
   "execution_count": 26,
   "id": "ed9100c8-8f07-49f6-a2d3-a81743b7608c",
   "metadata": {},
   "outputs": [
    {
     "name": "stderr",
     "output_type": "stream",
     "text": [
      "100%|██████████| 16/16 [00:03<00:00,  5.25it/s]\n"
     ]
    },
    {
     "data": {
      "text/plain": [
       "0.546"
      ]
     },
     "execution_count": 26,
     "metadata": {},
     "output_type": "execute_result"
    }
   ],
   "source": [
    "get_acc(classifier,test_loader,device)"
   ]
  },
  {
   "cell_type": "code",
   "execution_count": 27,
   "id": "6b8f3717-81e2-4c8d-9d3f-2cafc3d269fb",
   "metadata": {},
   "outputs": [
    {
     "name": "stderr",
     "output_type": "stream",
     "text": [
      "100%|██████████| 16/16 [00:03<00:00,  5.18it/s]\n"
     ]
    }
   ],
   "source": [
    "save_preds(df_test.index.to_list(),\n",
    "           get_pred(classifier,test_loader,device),\n",
    "           \"tinybiobert_phase_2_labelled_only\",\n",
    "          pred_dir=save_path)"
   ]
  },
  {
   "cell_type": "markdown",
   "id": "52b44160-f8c1-4dcf-b049-16ef873eced0",
   "metadata": {},
   "source": [
    "## Without artificial data"
   ]
  },
  {
   "cell_type": "code",
   "execution_count": 18,
   "id": "ffcabbd7-04bc-4efa-b3e3-41592d36b680",
   "metadata": {},
   "outputs": [],
   "source": [
    "expert_train = PubMedQADataset(expert_train_processed, tokenizer,max_length = 512)\n",
    "expert_train_loader = DataLoader(expert_train,batch_size=8, shuffle=False)"
   ]
  },
  {
   "cell_type": "code",
   "execution_count": 19,
   "id": "d4a3c75a-9cd4-4da7-b0ea-1758cde994fa",
   "metadata": {},
   "outputs": [
    {
     "name": "stderr",
     "output_type": "stream",
     "text": [
      "100%|██████████| 500/500 [00:01<00:00, 497.39it/s]\n"
     ]
    }
   ],
   "source": [
    "class_counts = compute_class_counts(expert_train)"
   ]
  },
  {
   "cell_type": "code",
   "execution_count": 20,
   "id": "915b05be-cec4-46f1-aeb3-496503f3c4a6",
   "metadata": {},
   "outputs": [],
   "source": [
    "class_count_list = [class_counts[i] for i in range(len(class_counts))]\n",
    "class_weights = [max(class_count_list) / count for count in class_count_list]\n",
    "class_weights = torch.tensor(class_weights, dtype=torch.float).to('cuda')"
   ]
  },
  {
   "cell_type": "code",
   "execution_count": 21,
   "id": "a58f09c2-1362-435c-bfa4-426c69cc25c5",
   "metadata": {},
   "outputs": [],
   "source": [
    "classifier_optimizer = torch.optim.AdamW(classifier.parameters(), lr=2e-5)\n",
    "classification_loss_fn = nn.CrossEntropyLoss(weight = class_weights)\n",
    "generation_loss_fn = nn.CrossEntropyLoss(ignore_index=tokenizer.pad_token_id)"
   ]
  },
  {
   "cell_type": "code",
   "execution_count": 22,
   "id": "fd8b468e-cdb7-4772-aade-0dfde9fcf350",
   "metadata": {},
   "outputs": [
    {
     "name": "stderr",
     "output_type": "stream",
     "text": [
      "Epoch 1/1: 100%|██████████| 63/63 [00:08<00:00,  7.79it/s, loss=12]  \n"
     ]
    },
    {
     "name": "stdout",
     "output_type": "stream",
     "text": [
      "Epoch 1/1, Loss: 11.4237\n"
     ]
    },
    {
     "name": "stderr",
     "output_type": "stream",
     "text": [
      "100%|██████████| 16/16 [00:03<00:00,  5.24it/s]"
     ]
    },
    {
     "name": "stdout",
     "output_type": "stream",
     "text": [
      "Test Accuracy : 0.552\n"
     ]
    },
    {
     "name": "stderr",
     "output_type": "stream",
     "text": [
      "\n"
     ]
    }
   ],
   "source": [
    "train_classifier(classifier,expert_train_loader,test_loader,classifier_optimizer,classification_loss_fn,\n",
    "                 generation_loss_fn,device,1)"
   ]
  },
  {
   "cell_type": "code",
   "execution_count": 24,
   "id": "c4bc0157-c6a1-4d35-b961-605edc8e4997",
   "metadata": {},
   "outputs": [
    {
     "name": "stderr",
     "output_type": "stream",
     "text": [
      "100%|██████████| 16/16 [00:03<00:00,  5.15it/s]\n"
     ]
    }
   ],
   "source": [
    "save_preds(df_test.index.to_list(),\n",
    "           get_pred(classifier,test_loader,device),\n",
    "           \"tinybiobert_phase_2_expert_only\",\n",
    "          pred_dir=save_path)"
   ]
  },
  {
   "cell_type": "code",
   "execution_count": null,
   "id": "a3292635-6aaf-46b5-8dbb-6fc33ba7f8e9",
   "metadata": {},
   "outputs": [],
   "source": []
  }
 ],
 "metadata": {
  "kernelspec": {
   "display_name": "Python 3 (ipykernel)",
   "language": "python",
   "name": "python3"
  },
  "language_info": {
   "codemirror_mode": {
    "name": "ipython",
    "version": 3
   },
   "file_extension": ".py",
   "mimetype": "text/x-python",
   "name": "python",
   "nbconvert_exporter": "python",
   "pygments_lexer": "ipython3",
   "version": "3.11.5"
  }
 },
 "nbformat": 4,
 "nbformat_minor": 5
}
