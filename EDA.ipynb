{
 "cells": [
  {
   "cell_type": "code",
   "execution_count": 49,
   "metadata": {},
   "outputs": [],
   "source": [
    "import pandas as pd\n",
    "import json\n",
    "import os\n",
    "import numpy as np\n",
    "\n",
    "from sklearn.feature_extraction.text import TfidfVectorizer\n",
    "from sklearn.preprocessing import LabelEncoder\n",
    "from sklearn.utils.class_weight import compute_sample_weight\n",
    "from sklearn.naive_bayes import MultinomialNB,ComplementNB\n",
    "from xgboost import XGBClassifier"
   ]
  },
  {
   "cell_type": "code",
   "execution_count": 50,
   "metadata": {},
   "outputs": [],
   "source": [
    "data_path = \"data\"\n",
    "save_path = \"predictions\""
   ]
  },
  {
   "cell_type": "code",
   "execution_count": 51,
   "metadata": {},
   "outputs": [],
   "source": [
    "train_set_path = os.path.join(data_path,\"train_set.json\")\n",
    "test_set_path = os.path.join(data_path,\"test_set.json\")\n",
    "artificial_train_set_path = os.path.join(data_path,\"ori_pqaa.json\")"
   ]
  },
  {
   "cell_type": "code",
   "execution_count": 52,
   "metadata": {},
   "outputs": [
    {
     "data": {
      "text/html": [
       "<div>\n",
       "<style scoped>\n",
       "    .dataframe tbody tr th:only-of-type {\n",
       "        vertical-align: middle;\n",
       "    }\n",
       "\n",
       "    .dataframe tbody tr th {\n",
       "        vertical-align: top;\n",
       "    }\n",
       "\n",
       "    .dataframe thead th {\n",
       "        text-align: right;\n",
       "    }\n",
       "</style>\n",
       "<table border=\"1\" class=\"dataframe\">\n",
       "  <thead>\n",
       "    <tr style=\"text-align: right;\">\n",
       "      <th></th>\n",
       "      <th>QUESTION</th>\n",
       "      <th>CONTEXTS</th>\n",
       "      <th>LABELS</th>\n",
       "      <th>MESHES</th>\n",
       "      <th>YEAR</th>\n",
       "      <th>reasoning_required_pred</th>\n",
       "      <th>reasoning_free_pred</th>\n",
       "      <th>final_decision</th>\n",
       "      <th>LONG_ANSWER</th>\n",
       "    </tr>\n",
       "  </thead>\n",
       "  <tbody>\n",
       "    <tr>\n",
       "      <th>19156007</th>\n",
       "      <td>Can clinicians use the PHQ-9 to assess depress...</td>\n",
       "      <td>[To investigate whether the Patient Health Que...</td>\n",
       "      <td>[PURPOSE, METHODS, RESULTS]</td>\n",
       "      <td>[Activities of Daily Living, Aged, Blindness, ...</td>\n",
       "      <td>2009</td>\n",
       "      <td>yes</td>\n",
       "      <td>yes</td>\n",
       "      <td>yes</td>\n",
       "      <td>Our findings demonstrate that the PHQ-9, when ...</td>\n",
       "    </tr>\n",
       "    <tr>\n",
       "      <th>25155638</th>\n",
       "      <td>Can routine offering of influenza vaccination ...</td>\n",
       "      <td>[Influenza vaccination remains below the feder...</td>\n",
       "      <td>[BACKGROUND, OBJECTIVE, DESIGN, PARTICIPANTS, ...</td>\n",
       "      <td>[Adolescent, Adult, African Americans, Aged, C...</td>\n",
       "      <td>2014</td>\n",
       "      <td>yes</td>\n",
       "      <td>yes</td>\n",
       "      <td>yes</td>\n",
       "      <td>Improved office-based practices regarding infl...</td>\n",
       "    </tr>\n",
       "    <tr>\n",
       "      <th>15670262</th>\n",
       "      <td>Is gastric electrical stimulation superior to ...</td>\n",
       "      <td>[Severe upper gastrointestinal (GI) motor diso...</td>\n",
       "      <td>[CONTEXT, OBJECTIVE, DESIGN, SETTING AND PATIE...</td>\n",
       "      <td>[Adult, Cost-Benefit Analysis, Electric Stimul...</td>\n",
       "      <td>2005</td>\n",
       "      <td>yes</td>\n",
       "      <td>yes</td>\n",
       "      <td>yes</td>\n",
       "      <td>We conclude that GES is more effective in impr...</td>\n",
       "    </tr>\n",
       "    <tr>\n",
       "      <th>17610439</th>\n",
       "      <td>Do hospitals provide lower quality care on wee...</td>\n",
       "      <td>[To examine the effect of a weekend hospitaliz...</td>\n",
       "      <td>[OBJECTIVE, DATA SOURCES, STUDY DESIGN, PRINCI...</td>\n",
       "      <td>[Aged, Female, Health Expenditures, Health Sta...</td>\n",
       "      <td>2007</td>\n",
       "      <td>yes</td>\n",
       "      <td>yes</td>\n",
       "      <td>yes</td>\n",
       "      <td>Weekend hospitalization leads to delayed provi...</td>\n",
       "    </tr>\n",
       "    <tr>\n",
       "      <th>10811329</th>\n",
       "      <td>Are 99mTc leukocyte scintigraphy and SBFT stud...</td>\n",
       "      <td>[The goal of this retrospective study was to a...</td>\n",
       "      <td>[OBJECTIVE, METHODS, RESULTS]</td>\n",
       "      <td>[Adolescent, Child, Colitis, Ulcerative, Colon...</td>\n",
       "      <td>2000</td>\n",
       "      <td>yes</td>\n",
       "      <td>yes</td>\n",
       "      <td>yes</td>\n",
       "      <td>Our results suggest that 99mTc-WBC is useful a...</td>\n",
       "    </tr>\n",
       "  </tbody>\n",
       "</table>\n",
       "</div>"
      ],
      "text/plain": [
       "                                                   QUESTION  \\\n",
       "19156007  Can clinicians use the PHQ-9 to assess depress...   \n",
       "25155638  Can routine offering of influenza vaccination ...   \n",
       "15670262  Is gastric electrical stimulation superior to ...   \n",
       "17610439  Do hospitals provide lower quality care on wee...   \n",
       "10811329  Are 99mTc leukocyte scintigraphy and SBFT stud...   \n",
       "\n",
       "                                                   CONTEXTS  \\\n",
       "19156007  [To investigate whether the Patient Health Que...   \n",
       "25155638  [Influenza vaccination remains below the feder...   \n",
       "15670262  [Severe upper gastrointestinal (GI) motor diso...   \n",
       "17610439  [To examine the effect of a weekend hospitaliz...   \n",
       "10811329  [The goal of this retrospective study was to a...   \n",
       "\n",
       "                                                     LABELS  \\\n",
       "19156007                        [PURPOSE, METHODS, RESULTS]   \n",
       "25155638  [BACKGROUND, OBJECTIVE, DESIGN, PARTICIPANTS, ...   \n",
       "15670262  [CONTEXT, OBJECTIVE, DESIGN, SETTING AND PATIE...   \n",
       "17610439  [OBJECTIVE, DATA SOURCES, STUDY DESIGN, PRINCI...   \n",
       "10811329                      [OBJECTIVE, METHODS, RESULTS]   \n",
       "\n",
       "                                                     MESHES  YEAR  \\\n",
       "19156007  [Activities of Daily Living, Aged, Blindness, ...  2009   \n",
       "25155638  [Adolescent, Adult, African Americans, Aged, C...  2014   \n",
       "15670262  [Adult, Cost-Benefit Analysis, Electric Stimul...  2005   \n",
       "17610439  [Aged, Female, Health Expenditures, Health Sta...  2007   \n",
       "10811329  [Adolescent, Child, Colitis, Ulcerative, Colon...  2000   \n",
       "\n",
       "         reasoning_required_pred reasoning_free_pred final_decision  \\\n",
       "19156007                     yes                 yes            yes   \n",
       "25155638                     yes                 yes            yes   \n",
       "15670262                     yes                 yes            yes   \n",
       "17610439                     yes                 yes            yes   \n",
       "10811329                     yes                 yes            yes   \n",
       "\n",
       "                                                LONG_ANSWER  \n",
       "19156007  Our findings demonstrate that the PHQ-9, when ...  \n",
       "25155638  Improved office-based practices regarding infl...  \n",
       "15670262  We conclude that GES is more effective in impr...  \n",
       "17610439  Weekend hospitalization leads to delayed provi...  \n",
       "10811329  Our results suggest that 99mTc-WBC is useful a...  "
      ]
     },
     "execution_count": 52,
     "metadata": {},
     "output_type": "execute_result"
    }
   ],
   "source": [
    "df_train = pd.read_json(train_set_path).T\n",
    "df_train.head()"
   ]
  },
  {
   "cell_type": "code",
   "execution_count": 53,
   "metadata": {},
   "outputs": [
    {
     "data": {
      "text/html": [
       "<div>\n",
       "<style scoped>\n",
       "    .dataframe tbody tr th:only-of-type {\n",
       "        vertical-align: middle;\n",
       "    }\n",
       "\n",
       "    .dataframe tbody tr th {\n",
       "        vertical-align: top;\n",
       "    }\n",
       "\n",
       "    .dataframe thead th {\n",
       "        text-align: right;\n",
       "    }\n",
       "</style>\n",
       "<table border=\"1\" class=\"dataframe\">\n",
       "  <thead>\n",
       "    <tr style=\"text-align: right;\">\n",
       "      <th></th>\n",
       "      <th>QUESTION</th>\n",
       "      <th>CONTEXTS</th>\n",
       "      <th>LABELS</th>\n",
       "      <th>MESHES</th>\n",
       "      <th>YEAR</th>\n",
       "      <th>reasoning_required_pred</th>\n",
       "      <th>reasoning_free_pred</th>\n",
       "      <th>final_decision</th>\n",
       "      <th>LONG_ANSWER</th>\n",
       "    </tr>\n",
       "  </thead>\n",
       "  <tbody>\n",
       "    <tr>\n",
       "      <th>12377809</th>\n",
       "      <td>Is anorectal endosonography valuable in dysche...</td>\n",
       "      <td>[Dyschesia can be provoked by inappropriate de...</td>\n",
       "      <td>[AIMS, METHODS, RESULTS]</td>\n",
       "      <td>[Adolescent, Adult, Aged, Aged, 80 and over, A...</td>\n",
       "      <td>2002</td>\n",
       "      <td>yes</td>\n",
       "      <td>yes</td>\n",
       "      <td>yes</td>\n",
       "      <td>Linear anorectal endosonography demonstrated i...</td>\n",
       "    </tr>\n",
       "    <tr>\n",
       "      <th>26163474</th>\n",
       "      <td>Is there a connection between sublingual varic...</td>\n",
       "      <td>[Sublingual varices have earlier been related ...</td>\n",
       "      <td>[BACKGROUND, METHODS, RESULTS]</td>\n",
       "      <td>[Adult, Aged, Angina Pectoris, Atrial Fibrilla...</td>\n",
       "      <td>2015</td>\n",
       "      <td>yes</td>\n",
       "      <td>yes</td>\n",
       "      <td>yes</td>\n",
       "      <td>An association was found between sublingual va...</td>\n",
       "    </tr>\n",
       "    <tr>\n",
       "      <th>19100463</th>\n",
       "      <td>Is the affinity column-mediated immunoassay me...</td>\n",
       "      <td>[Tacrolimus is a potent immunosuppressive drug...</td>\n",
       "      <td>[BACKGROUND, METHODS, RESULTS]</td>\n",
       "      <td>[Bilirubin, Chromatography, Affinity, Creatini...</td>\n",
       "      <td>2008</td>\n",
       "      <td>maybe</td>\n",
       "      <td>yes</td>\n",
       "      <td>yes</td>\n",
       "      <td>The ACMIA method used for a tacrolimus assay i...</td>\n",
       "    </tr>\n",
       "    <tr>\n",
       "      <th>18537964</th>\n",
       "      <td>Does a physician's specialty influence the rec...</td>\n",
       "      <td>[To determine the impact of a physician's spec...</td>\n",
       "      <td>[AIMS, METHODS, RESULTS]</td>\n",
       "      <td>[Adult, Attitude of Health Personnel, Clinical...</td>\n",
       "      <td>2008</td>\n",
       "      <td>yes</td>\n",
       "      <td>yes</td>\n",
       "      <td>yes</td>\n",
       "      <td>Physicians appear to document more frequently ...</td>\n",
       "    </tr>\n",
       "    <tr>\n",
       "      <th>12913878</th>\n",
       "      <td>Locoregional opening of the rodent blood-brain...</td>\n",
       "      <td>[Nd:YAG laser-induced thermo therapy (LITT) of...</td>\n",
       "      <td>[BACKGROUND AND OBJECTIVES, MATERIALS AND METH...</td>\n",
       "      <td>[Administration, Topical, Animals, Antineoplas...</td>\n",
       "      <td>2003</td>\n",
       "      <td>yes</td>\n",
       "      <td>yes</td>\n",
       "      <td>yes</td>\n",
       "      <td>LITT induces a locoregional passage of chemoth...</td>\n",
       "    </tr>\n",
       "  </tbody>\n",
       "</table>\n",
       "</div>"
      ],
      "text/plain": [
       "                                                   QUESTION  \\\n",
       "12377809  Is anorectal endosonography valuable in dysche...   \n",
       "26163474  Is there a connection between sublingual varic...   \n",
       "19100463  Is the affinity column-mediated immunoassay me...   \n",
       "18537964  Does a physician's specialty influence the rec...   \n",
       "12913878  Locoregional opening of the rodent blood-brain...   \n",
       "\n",
       "                                                   CONTEXTS  \\\n",
       "12377809  [Dyschesia can be provoked by inappropriate de...   \n",
       "26163474  [Sublingual varices have earlier been related ...   \n",
       "19100463  [Tacrolimus is a potent immunosuppressive drug...   \n",
       "18537964  [To determine the impact of a physician's spec...   \n",
       "12913878  [Nd:YAG laser-induced thermo therapy (LITT) of...   \n",
       "\n",
       "                                                     LABELS  \\\n",
       "12377809                           [AIMS, METHODS, RESULTS]   \n",
       "26163474                     [BACKGROUND, METHODS, RESULTS]   \n",
       "19100463                     [BACKGROUND, METHODS, RESULTS]   \n",
       "18537964                           [AIMS, METHODS, RESULTS]   \n",
       "12913878  [BACKGROUND AND OBJECTIVES, MATERIALS AND METH...   \n",
       "\n",
       "                                                     MESHES  YEAR  \\\n",
       "12377809  [Adolescent, Adult, Aged, Aged, 80 and over, A...  2002   \n",
       "26163474  [Adult, Aged, Angina Pectoris, Atrial Fibrilla...  2015   \n",
       "19100463  [Bilirubin, Chromatography, Affinity, Creatini...  2008   \n",
       "18537964  [Adult, Attitude of Health Personnel, Clinical...  2008   \n",
       "12913878  [Administration, Topical, Animals, Antineoplas...  2003   \n",
       "\n",
       "         reasoning_required_pred reasoning_free_pred final_decision  \\\n",
       "12377809                     yes                 yes            yes   \n",
       "26163474                     yes                 yes            yes   \n",
       "19100463                   maybe                 yes            yes   \n",
       "18537964                     yes                 yes            yes   \n",
       "12913878                     yes                 yes            yes   \n",
       "\n",
       "                                                LONG_ANSWER  \n",
       "12377809  Linear anorectal endosonography demonstrated i...  \n",
       "26163474  An association was found between sublingual va...  \n",
       "19100463  The ACMIA method used for a tacrolimus assay i...  \n",
       "18537964  Physicians appear to document more frequently ...  \n",
       "12913878  LITT induces a locoregional passage of chemoth...  "
      ]
     },
     "execution_count": 53,
     "metadata": {},
     "output_type": "execute_result"
    }
   ],
   "source": [
    "df_test = pd.read_json(test_set_path).T\n",
    "df_test.head()"
   ]
  },
  {
   "cell_type": "code",
   "execution_count": 54,
   "metadata": {},
   "outputs": [
    {
     "data": {
      "text/html": [
       "<div>\n",
       "<style scoped>\n",
       "    .dataframe tbody tr th:only-of-type {\n",
       "        vertical-align: middle;\n",
       "    }\n",
       "\n",
       "    .dataframe tbody tr th {\n",
       "        vertical-align: top;\n",
       "    }\n",
       "\n",
       "    .dataframe thead th {\n",
       "        text-align: right;\n",
       "    }\n",
       "</style>\n",
       "<table border=\"1\" class=\"dataframe\">\n",
       "  <thead>\n",
       "    <tr style=\"text-align: right;\">\n",
       "      <th></th>\n",
       "      <th>QUESTION</th>\n",
       "      <th>CONTEXTS</th>\n",
       "      <th>LABELS</th>\n",
       "      <th>LONG_ANSWER</th>\n",
       "      <th>MESHES</th>\n",
       "      <th>final_decision</th>\n",
       "    </tr>\n",
       "  </thead>\n",
       "  <tbody>\n",
       "    <tr>\n",
       "      <th>25429730</th>\n",
       "      <td>Are group 2 innate lymphoid cells ( ILC2s ) in...</td>\n",
       "      <td>[Chronic rhinosinusitis (CRS) is a heterogeneo...</td>\n",
       "      <td>[BACKGROUND, OBJECTIVE, METHODS, RESULTS]</td>\n",
       "      <td>As ILC2s are elevated in patients with CRSwNP,...</td>\n",
       "      <td>[Adult, Aged, Antigens, Surface, Case-Control ...</td>\n",
       "      <td>yes</td>\n",
       "    </tr>\n",
       "    <tr>\n",
       "      <th>25433161</th>\n",
       "      <td>Does vagus nerve contribute to the development...</td>\n",
       "      <td>[Phosphatidylethanolamine N-methyltransferase ...</td>\n",
       "      <td>[OBJECTIVE, METHODS, RESULTS]</td>\n",
       "      <td>Neuronal signals via the hepatic vagus nerve c...</td>\n",
       "      <td>[Animals, Chemokine CCL2, Diet, High-Fat, Dise...</td>\n",
       "      <td>yes</td>\n",
       "    </tr>\n",
       "    <tr>\n",
       "      <th>25445714</th>\n",
       "      <td>Does psammaplin A induce Sirtuin 1-dependent a...</td>\n",
       "      <td>[Psammaplin A (PsA) is a natural product isola...</td>\n",
       "      <td>[BACKGROUND, METHODS]</td>\n",
       "      <td>PsA significantly inhibited MCF-7/adr cells pr...</td>\n",
       "      <td>[Acetylation, Animals, Antibiotics, Antineopla...</td>\n",
       "      <td>yes</td>\n",
       "    </tr>\n",
       "    <tr>\n",
       "      <th>25431941</th>\n",
       "      <td>Is methylation of the FGFR2 gene associated wi...</td>\n",
       "      <td>[This study examined links between DNA methyla...</td>\n",
       "      <td>[OBJECTIVE, METHODS, RESULTS]</td>\n",
       "      <td>We identified a novel biologically plausible c...</td>\n",
       "      <td>[]</td>\n",
       "      <td>yes</td>\n",
       "    </tr>\n",
       "    <tr>\n",
       "      <th>25432519</th>\n",
       "      <td>Do tumor-infiltrating immune cell profiles and...</td>\n",
       "      <td>[Tumor microenvironment immunity is associated...</td>\n",
       "      <td>[BACKGROUND, METHODS, RESULTS]</td>\n",
       "      <td>Breast cancer immune cell subpopulation profil...</td>\n",
       "      <td>[Adult, Aged, Anthracyclines, Antibodies, Mono...</td>\n",
       "      <td>yes</td>\n",
       "    </tr>\n",
       "    <tr>\n",
       "      <th>...</th>\n",
       "      <td>...</td>\n",
       "      <td>...</td>\n",
       "      <td>...</td>\n",
       "      <td>...</td>\n",
       "      <td>...</td>\n",
       "      <td>...</td>\n",
       "    </tr>\n",
       "    <tr>\n",
       "      <th>8217974</th>\n",
       "      <td>Is urine production rate related to behavioura...</td>\n",
       "      <td>[To investigate the relation between hourly fe...</td>\n",
       "      <td>[OBJECTIVE, METHODS, METHODS, METHODS, METHODS...</td>\n",
       "      <td>During active sleep (state 2F) hourly fetal ur...</td>\n",
       "      <td>[Behavior, Embryonic and Fetal Development, Fe...</td>\n",
       "      <td>yes</td>\n",
       "    </tr>\n",
       "    <tr>\n",
       "      <th>8204319</th>\n",
       "      <td>Does evaluation of the use of general practice...</td>\n",
       "      <td>[This study set out to show how well samples f...</td>\n",
       "      <td>[OBJECTIVE, METHODS, RESULTS]</td>\n",
       "      <td>General practice registers can provide a suita...</td>\n",
       "      <td>[Adult, Age Factors, Epidemiologic Methods, Fa...</td>\n",
       "      <td>yes</td>\n",
       "    </tr>\n",
       "    <tr>\n",
       "      <th>8205673</th>\n",
       "      <td>Does intracoronary angiotensin-converting enzy...</td>\n",
       "      <td>[There is increasing recognition of myocardial...</td>\n",
       "      <td>[BACKGROUND, RESULTS]</td>\n",
       "      <td>Intracoronary enalaprilat resulted in an impro...</td>\n",
       "      <td>[Adult, Aged, Coronary Vessels, Diastole, Enal...</td>\n",
       "      <td>yes</td>\n",
       "    </tr>\n",
       "    <tr>\n",
       "      <th>8215873</th>\n",
       "      <td>Does transfusion significantly increase the ri...</td>\n",
       "      <td>[To determine if splenectomy results in an inc...</td>\n",
       "      <td>[OBJECTIVE, METHODS, METHODS, METHODS, METHODS...</td>\n",
       "      <td>The choice between splenectomy and splenic rep...</td>\n",
       "      <td>[Adult, Bacteremia, Female, Humans, Injury Sev...</td>\n",
       "      <td>yes</td>\n",
       "    </tr>\n",
       "    <tr>\n",
       "      <th>8201088</th>\n",
       "      <td>Is low intramucosal pH associated with failure...</td>\n",
       "      <td>[To determine if low gastric intramucosal pH i...</td>\n",
       "      <td>[OBJECTIVE, METHODS, METHODS, METHODS, METHODS...</td>\n",
       "      <td>Some critically ill patients with low gastric ...</td>\n",
       "      <td>[Achlorhydria, Aged, Blood Gas Analysis, Criti...</td>\n",
       "      <td>yes</td>\n",
       "    </tr>\n",
       "  </tbody>\n",
       "</table>\n",
       "<p>211269 rows × 6 columns</p>\n",
       "</div>"
      ],
      "text/plain": [
       "                                                   QUESTION  \\\n",
       "25429730  Are group 2 innate lymphoid cells ( ILC2s ) in...   \n",
       "25433161  Does vagus nerve contribute to the development...   \n",
       "25445714  Does psammaplin A induce Sirtuin 1-dependent a...   \n",
       "25431941  Is methylation of the FGFR2 gene associated wi...   \n",
       "25432519  Do tumor-infiltrating immune cell profiles and...   \n",
       "...                                                     ...   \n",
       "8217974   Is urine production rate related to behavioura...   \n",
       "8204319   Does evaluation of the use of general practice...   \n",
       "8205673   Does intracoronary angiotensin-converting enzy...   \n",
       "8215873   Does transfusion significantly increase the ri...   \n",
       "8201088   Is low intramucosal pH associated with failure...   \n",
       "\n",
       "                                                   CONTEXTS  \\\n",
       "25429730  [Chronic rhinosinusitis (CRS) is a heterogeneo...   \n",
       "25433161  [Phosphatidylethanolamine N-methyltransferase ...   \n",
       "25445714  [Psammaplin A (PsA) is a natural product isola...   \n",
       "25431941  [This study examined links between DNA methyla...   \n",
       "25432519  [Tumor microenvironment immunity is associated...   \n",
       "...                                                     ...   \n",
       "8217974   [To investigate the relation between hourly fe...   \n",
       "8204319   [This study set out to show how well samples f...   \n",
       "8205673   [There is increasing recognition of myocardial...   \n",
       "8215873   [To determine if splenectomy results in an inc...   \n",
       "8201088   [To determine if low gastric intramucosal pH i...   \n",
       "\n",
       "                                                     LABELS  \\\n",
       "25429730          [BACKGROUND, OBJECTIVE, METHODS, RESULTS]   \n",
       "25433161                      [OBJECTIVE, METHODS, RESULTS]   \n",
       "25445714                              [BACKGROUND, METHODS]   \n",
       "25431941                      [OBJECTIVE, METHODS, RESULTS]   \n",
       "25432519                     [BACKGROUND, METHODS, RESULTS]   \n",
       "...                                                     ...   \n",
       "8217974   [OBJECTIVE, METHODS, METHODS, METHODS, METHODS...   \n",
       "8204319                       [OBJECTIVE, METHODS, RESULTS]   \n",
       "8205673                               [BACKGROUND, RESULTS]   \n",
       "8215873   [OBJECTIVE, METHODS, METHODS, METHODS, METHODS...   \n",
       "8201088   [OBJECTIVE, METHODS, METHODS, METHODS, METHODS...   \n",
       "\n",
       "                                                LONG_ANSWER  \\\n",
       "25429730  As ILC2s are elevated in patients with CRSwNP,...   \n",
       "25433161  Neuronal signals via the hepatic vagus nerve c...   \n",
       "25445714  PsA significantly inhibited MCF-7/adr cells pr...   \n",
       "25431941  We identified a novel biologically plausible c...   \n",
       "25432519  Breast cancer immune cell subpopulation profil...   \n",
       "...                                                     ...   \n",
       "8217974   During active sleep (state 2F) hourly fetal ur...   \n",
       "8204319   General practice registers can provide a suita...   \n",
       "8205673   Intracoronary enalaprilat resulted in an impro...   \n",
       "8215873   The choice between splenectomy and splenic rep...   \n",
       "8201088   Some critically ill patients with low gastric ...   \n",
       "\n",
       "                                                     MESHES final_decision  \n",
       "25429730  [Adult, Aged, Antigens, Surface, Case-Control ...            yes  \n",
       "25433161  [Animals, Chemokine CCL2, Diet, High-Fat, Dise...            yes  \n",
       "25445714  [Acetylation, Animals, Antibiotics, Antineopla...            yes  \n",
       "25431941                                                 []            yes  \n",
       "25432519  [Adult, Aged, Anthracyclines, Antibodies, Mono...            yes  \n",
       "...                                                     ...            ...  \n",
       "8217974   [Behavior, Embryonic and Fetal Development, Fe...            yes  \n",
       "8204319   [Adult, Age Factors, Epidemiologic Methods, Fa...            yes  \n",
       "8205673   [Adult, Aged, Coronary Vessels, Diastole, Enal...            yes  \n",
       "8215873   [Adult, Bacteremia, Female, Humans, Injury Sev...            yes  \n",
       "8201088   [Achlorhydria, Aged, Blood Gas Analysis, Criti...            yes  \n",
       "\n",
       "[211269 rows x 6 columns]"
      ]
     },
     "execution_count": 54,
     "metadata": {},
     "output_type": "execute_result"
    }
   ],
   "source": [
    "df_artificial_train = pd.read_json(artificial_train_set_path).T\n",
    "df_artificial_train"
   ]
  },
  {
   "cell_type": "code",
   "execution_count": 55,
   "metadata": {},
   "outputs": [
    {
     "name": "stdout",
     "output_type": "stream",
     "text": [
      "Train shape : (500, 9)\n",
      "Test shape : (500, 9)\n",
      "Artificial train shape : (211269, 6)\n"
     ]
    }
   ],
   "source": [
    "print(f\"Train shape : {df_train.shape}\")\n",
    "print(f\"Test shape : {df_test.shape}\")\n",
    "print(f\"Artificial train shape : {df_artificial_train.shape}\")\n"
   ]
  },
  {
   "cell_type": "code",
   "execution_count": 56,
   "metadata": {},
   "outputs": [],
   "source": [
    "def save_preds(keys,values,file_name,pred_dir = save_path):\n",
    "\n",
    "    pred_dict = {}\n",
    "    file_path = os.path.join(pred_dir,file_name+\".json\")\n",
    "    for key,value in zip(keys,values):\n",
    "        pred_dict[key] = value\n",
    "    \n",
    "    with open(file_path,\n",
    "              \"w\") as outfile:\n",
    "        json.dump(pred_dict,outfile)\n"
   ]
  },
  {
   "cell_type": "code",
   "execution_count": 57,
   "metadata": {},
   "outputs": [],
   "source": [
    "train_combined_texts = [f\"Question: {q} Context: {c}\" for q, c in zip(df_train['QUESTION'], df_train['CONTEXTS'])]\n",
    "test_combined_texts = [f\"Question: {q} Context: {c}\" for q, c in zip(df_test['QUESTION'], df_test['CONTEXTS'])]\n",
    "artificial_train_combined_texts = [f\"Question: {q} Context: {c}\" for q, c in zip(df_artificial_train['QUESTION'], df_artificial_train['CONTEXTS'])]\n"
   ]
  },
  {
   "cell_type": "code",
   "execution_count": 58,
   "metadata": {},
   "outputs": [],
   "source": [
    "save_preds(df_test.index.to_list(),[\"yes\"]*500,\"mode_pred\")"
   ]
  },
  {
   "cell_type": "markdown",
   "metadata": {},
   "source": [
    "## Original train dataset"
   ]
  },
  {
   "cell_type": "code",
   "execution_count": 59,
   "metadata": {},
   "outputs": [],
   "source": [
    "label_encoder = LabelEncoder()\n",
    "vectorizer = TfidfVectorizer(ngram_range=(1,2),max_features=5000)"
   ]
  },
  {
   "cell_type": "code",
   "execution_count": 60,
   "metadata": {},
   "outputs": [],
   "source": [
    "train_y = label_encoder.fit_transform(df_train['final_decision'])\n",
    "train_x = vectorizer.fit_transform(train_combined_texts)"
   ]
  },
  {
   "cell_type": "code",
   "execution_count": 61,
   "metadata": {},
   "outputs": [],
   "source": [
    "test_x = vectorizer.transform(test_combined_texts)"
   ]
  },
  {
   "cell_type": "code",
   "execution_count": 62,
   "metadata": {},
   "outputs": [],
   "source": [
    "# clf = MultinomialNB()\n",
    "clf = ComplementNB()\n",
    "clf = clf.fit(train_x,train_y)"
   ]
  },
  {
   "cell_type": "code",
   "execution_count": 63,
   "metadata": {},
   "outputs": [],
   "source": [
    "test_preds = clf.predict(test_x)"
   ]
  },
  {
   "cell_type": "code",
   "execution_count": 64,
   "metadata": {},
   "outputs": [],
   "source": [
    "test_labels = label_encoder.inverse_transform(test_preds)"
   ]
  },
  {
   "cell_type": "code",
   "execution_count": 65,
   "metadata": {},
   "outputs": [],
   "source": [
    "save_preds(df_test.index.to_list(),test_labels,\"tfidf_complementNB_pred\")"
   ]
  },
  {
   "cell_type": "markdown",
   "metadata": {},
   "source": [
    "## Artificial train dataset"
   ]
  },
  {
   "cell_type": "code",
   "execution_count": 66,
   "metadata": {},
   "outputs": [],
   "source": [
    "label_encoder_combined = LabelEncoder()\n",
    "vectorizer_combined = TfidfVectorizer(ngram_range=(1,2),max_features=5000)"
   ]
  },
  {
   "cell_type": "code",
   "execution_count": 67,
   "metadata": {},
   "outputs": [],
   "source": [
    "combined_y = df_train['final_decision'].to_list()\n",
    "combined_y.extend(df_artificial_train['final_decision'].to_list())"
   ]
  },
  {
   "cell_type": "code",
   "execution_count": 68,
   "metadata": {},
   "outputs": [
    {
     "data": {
      "text/plain": [
       "211769"
      ]
     },
     "execution_count": 68,
     "metadata": {},
     "output_type": "execute_result"
    }
   ],
   "source": [
    "len(combined_y)"
   ]
  },
  {
   "cell_type": "code",
   "execution_count": 69,
   "metadata": {},
   "outputs": [],
   "source": [
    "\n",
    "combined_x = train_combined_texts.copy()\n",
    "combined_x.extend(artificial_train_combined_texts)\n",
    "\n"
   ]
  },
  {
   "cell_type": "code",
   "execution_count": 70,
   "metadata": {},
   "outputs": [
    {
     "data": {
      "text/plain": [
       "211769"
      ]
     },
     "execution_count": 70,
     "metadata": {},
     "output_type": "execute_result"
    }
   ],
   "source": [
    "len(combined_x)"
   ]
  },
  {
   "cell_type": "code",
   "execution_count": 71,
   "metadata": {},
   "outputs": [],
   "source": [
    "train_combined_y = label_encoder_combined.fit_transform(combined_y)"
   ]
  },
  {
   "cell_type": "code",
   "execution_count": 72,
   "metadata": {},
   "outputs": [],
   "source": [
    "train_combined_x = vectorizer_combined.fit_transform(combined_x)"
   ]
  },
  {
   "cell_type": "code",
   "execution_count": 73,
   "metadata": {},
   "outputs": [],
   "source": [
    "test_x = vectorizer_combined.transform(test_combined_texts)"
   ]
  },
  {
   "cell_type": "code",
   "execution_count": 74,
   "metadata": {},
   "outputs": [],
   "source": [
    "clf = ComplementNB()\n",
    "# clf = MultinomialNB()\n",
    "# clf = XGBClassifier()\n",
    "clf = clf.fit(train_combined_x,train_combined_y\n",
    ")\n",
    "\n",
    "# sample_weight=compute_sample_weight(\"balanced\",train_combined_y"
   ]
  },
  {
   "cell_type": "code",
   "execution_count": 75,
   "metadata": {},
   "outputs": [],
   "source": [
    "test_preds = clf.predict(test_x)\n",
    "test_labels = label_encoder_combined.inverse_transform(test_preds)\n",
    "save_preds(df_test.index.to_list(),test_labels,\"tfidf_complementNB_combined_pred\")"
   ]
  },
  {
   "cell_type": "code",
   "execution_count": 76,
   "metadata": {},
   "outputs": [
    {
     "data": {
      "text/plain": [
       "(array([0, 1, 2]), array([    55,  15294, 196420]))"
      ]
     },
     "execution_count": 76,
     "metadata": {},
     "output_type": "execute_result"
    }
   ],
   "source": [
    "np.unique(train_combined_y, return_counts=True)"
   ]
  },
  {
   "cell_type": "code",
   "execution_count": 77,
   "metadata": {},
   "outputs": [
    {
     "data": {
      "text/plain": [
       "array(['maybe', 'no', 'yes'], dtype='<U5')"
      ]
     },
     "execution_count": 77,
     "metadata": {},
     "output_type": "execute_result"
    }
   ],
   "source": [
    "label_encoder_combined.classes_"
   ]
  },
  {
   "cell_type": "code",
   "execution_count": null,
   "metadata": {},
   "outputs": [],
   "source": []
  }
 ],
 "metadata": {
  "kernelspec": {
   "display_name": "Python 3 (ipykernel)",
   "language": "python",
   "name": "python3"
  },
  "language_info": {
   "codemirror_mode": {
    "name": "ipython",
    "version": 3
   },
   "file_extension": ".py",
   "mimetype": "text/x-python",
   "name": "python",
   "nbconvert_exporter": "python",
   "pygments_lexer": "ipython3",
   "version": "3.11.5"
  }
 },
 "nbformat": 4,
 "nbformat_minor": 4
}
